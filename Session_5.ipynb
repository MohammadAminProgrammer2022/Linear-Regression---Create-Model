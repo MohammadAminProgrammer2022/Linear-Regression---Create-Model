{
  "cells": [
    {
      "cell_type": "markdown",
      "metadata": {},
      "source": [
        "# IN THE NAME OF GOD"
      ]
    },
    {
      "cell_type": "markdown",
      "metadata": {},
      "source": [
        "در این سوال به بررسی ارتباط بین شاخص توده بدنی \n",
        "\n",
        "BMI\n",
        "\n",
        "و \n",
        "دیابت می پردازیم.\n",
        "به صورتی بررسی می کنیم که تغییرات شاخص توده بدنی چه مقدار در دیابتی شدن یک شخص اثر دارد."
      ]
    },
    {
      "cell_type": "markdown",
      "metadata": {},
      "source": [
        "در کتابخانه سایکیت لرن دیتاست هایی وجود دارد که از یکی از آنها استفاده کردم. دیتاست دیابت"
      ]
    },
    {
      "cell_type": "code",
      "execution_count": 2,
      "metadata": {},
      "outputs": [
        {
          "name": "stdout",
          "output_type": "stream",
          "text": [
            "['age', 'sex', 'bmi', 'bp', 's1', 's2', 's3', 's4', 's5', 's6']\n"
          ]
        }
      ],
      "source": [
        "# sklearn datasets explained\n",
        "# https://hackernoon.com/16-best-sklearn-datasets-for-building-machine-learning-models\n",
        "\n",
        "# Import necessary libraries\n",
        "import numpy as np\n",
        "import matplotlib.pyplot as plt\n",
        "from sklearn import datasets\n",
        "from sklearn.model_selection import train_test_split\n",
        "from sklearn.linear_model import LinearRegression\n",
        "from sklearn.metrics import mean_squared_error\n",
        "from sklearn.metrics import r2_score\n",
        "\n",
        "# # Load the diabetes dataset\n",
        "diabetes = datasets.load_diabetes()\n",
        "\n",
        "# printing feature names - we focus on BMI ===> index = 2\n",
        "print(diabetes.feature_names)"
      ]
    },
    {
      "cell_type": "code",
      "execution_count": 8,
      "metadata": {},
      "outputs": [
        {
          "name": "stdout",
          "output_type": "stream",
          "text": [
            "a[:, np.newaxis] = \n",
            "[[1]\n",
            " [2]\n",
            " [3]\n",
            " [4]\n",
            " [5]\n",
            " [6]]\n",
            "Shape: (6, 1)\n",
            "\n",
            "a[np.newaxis, :]\n",
            "[[1 2 3 4 5 6]]\n",
            "Shape: (1, 6)\n"
          ]
        },
        {
          "data": {
            "text/plain": [
              "442"
            ]
          },
          "execution_count": 8,
          "metadata": {},
          "output_type": "execute_result"
        }
      ],
      "source": [
        "'''\n",
        "IN TRAINING AND CREATING MODEL, IT'S USUALL TO HAVE X AND Y VALUES IN A ROW OR COLUMN\n",
        "IN THIS WAY THEY'LL BE MATCHED AUTOMATICALLY.\n",
        "\n",
        "==========================================================================================================\n",
        "=======================================> X = diabetes.data[:, np.newaxis, 2]  # Use BMI as the feature\n",
        "==========================================================================================================\n",
        "\n",
        "1. X = diabetes.data ===> in doc of this dataset .data gives all the data\n",
        "2. np.newaxis: ===\n",
        "    a = np.array([1, 2, 3, 4, 5, 6])\n",
        "    \n",
        "'''\n",
        "a = np.array([1, 2, 3, 4, 5, 6])\n",
        "print('a[:, np.newaxis] = ')\n",
        "print(a[:, np.newaxis])\n",
        "print(f\"Shape: {a[:, np.newaxis].shape}\\n\")\n",
        "\n",
        "\n",
        "print('a[np.newaxis, :]')\n",
        "print(a[np.newaxis, :])\n",
        "print(f\"Shape: {a[np.newaxis, :].shape}\")\n",
        "\n",
        "X = diabetes.data[:, np.newaxis, 2]  # Use BMI as the feature\n",
        "len(X)"
      ]
    },
    {
      "cell_type": "code",
      "execution_count": 12,
      "metadata": {},
      "outputs": [
        {
          "data": {
            "text/plain": [
              "'\\n==========================================================================================================\\n=======================================> y = diabetes.target\\n==========================================================================================================\\n\\nhere are just some RESULTS. for example: person A has diabetes or not.\\n'"
            ]
          },
          "execution_count": 12,
          "metadata": {},
          "output_type": "execute_result"
        }
      ],
      "source": [
        "y = diabetes.target\n",
        "'''\n",
        "==========================================================================================================\n",
        "=======================================> y = diabetes.target\n",
        "==========================================================================================================\n",
        "\n",
        "here are just some RESULTS based on how much diabetes progressed.\n",
        "    ===> diabetes progression\n",
        "'''\n"
      ]
    },
    {
      "cell_type": "code",
      "execution_count": null,
      "metadata": {},
      "outputs": [],
      "source": [
        "# Split the data into training and testing sets\n",
        "X_train, X_test, y_train, y_test = train_test_split(X, y, test_size=0.2, random_state=42)\n",
        "'''\n",
        "==========================================================================================================\n",
        "========================> X_train, X_test, y_train, y_test = train_test_split(X, y, test_size=0.2, random_state=42)\n",
        "==========================================================================================================\n",
        "\n",
        "seperating data to:\n",
        "            1. train model ===> True info to teach and train the model with questions and their answers\n",
        "            2. test model   ===> Only results that our model must predict and at the end we'll evaliuate it and compare it with \n",
        "                                test part.\n",
        "\n",
        "NOTE: \n",
        "    test data is a piece of information that our trained model hasn't seen before.\n",
        "\n",
        "NOTE: \n",
        "    test_size = 0.2 ===> 80% of data is for training the model and only 20% of the data is for testing.\n",
        "\n",
        "NOTE: \n",
        "    controls the shuffling applied to the data before the split.\n",
        "\n",
        "'''"
      ]
    },
    {
      "cell_type": "code",
      "execution_count": 26,
      "metadata": {},
      "outputs": [],
      "source": [
        "# Create and fit the linear regression model\n",
        "model = LinearRegression()\n",
        "model.fit(X_train, y_train)\n",
        "\n",
        "'''\n",
        "==========================================================================================================\n",
        "======================================>     model = LinearRegression()\n",
        "======================================>     model.fit(X_train, y_train)\n",
        "==========================================================================================================\n",
        "\n",
        "Linear Regression:\n",
        "            is a linear algorithm. this is a sub model in sklearn library\n",
        "\n",
        "fit:\n",
        "    train the model using X_train and y_train\n",
        "    or\n",
        "    try to find the best relationship between X_train and y_train and plot the best possible line.\n",
        "\n",
        "NOTE:\n",
        "    After this step model is ready to be tested and understand how good and useful it is.\n",
        "'''"
      ]
    },
    {
      "cell_type": "code",
      "execution_count": 27,
      "metadata": {},
      "outputs": [],
      "source": [
        "# Make predictions on the test set\n",
        "y_pred = model.predict(X_test)\n",
        "\n",
        "'''\n",
        "==========================================================================================================\n",
        "======================================>     y_pred = model.predict(X_test)\n",
        "==========================================================================================================\n",
        "\n",
        "NOTE:\n",
        "    Now our model is ready. X_test is the a piece of information that we use to test the model.\n",
        "    It's important to note that our model HASN'T SEEN THAT BEFORE so we can understand it's efficiency easily.\n",
        "    To do that we call predict method.\n",
        "'''"
      ]
    },
    {
      "cell_type": "code",
      "execution_count": 25,
      "metadata": {},
      "outputs": [],
      "source": [
        "# Evaluate the model performance\n",
        "mse = mean_squared_error(y_test, y_pred)\n",
        "print(f'Mean Squared Error: {mse:.2f}')\n",
        "\n",
        "'''\n",
        "==========================================================================================================\n",
        "======================================>     mse = mean_squared_error(y_test, y_pred)\n",
        "==========================================================================================================\n",
        "\n",
        "NOTE:\n",
        "    Now it's time to check our model's performance. to do that we compare y_test, which is the correct result\n",
        "    and the y_pred, which is the result from X_test.\n",
        "    \n",
        "    MSE or Mean Squared Error is a good way to understand how we're closer to the right answer when we're using our\n",
        "    model.\n",
        "    \n",
        "NOTE:\n",
        "    How much MSE is closer to zero shows how much good we are.\n",
        "\n",
        "NOTE:\n",
        "    print(f'Mean Squared Error: {mse:.2f}')\n",
        "    =====> mse:.2f =======means=======> show mse with 2 digits after . in float format.\n",
        "                                        like so ===> mse: 4061.83\n",
        "    \n",
        "NOTE:\n",
        "    There is also another way to do that. It's r2_score and its output must be near to one to be\n",
        "    satisfied with.\n",
        "    \n",
        "    ***** This is how we use it *****\n",
        "    from sklearn.metrics import r2_score\n",
        "    r2 = r2_score(y_test, y_pred)\n",
        "    print(f'R-squared: {r2:.2f}')\n",
        "'''\n",
        "#"
      ]
    },
    {
      "cell_type": "code",
      "execution_count": null,
      "metadata": {},
      "outputs": [],
      "source": [
        "# Plot the results\n",
        "plt.scatter(X_test, y_test, color='black')\n",
        "plt.plot(X_test, y_pred, color='blue', linewidth=3)\n",
        "plt.title('Linear Regression - Diabetes Progression Prediction')\n",
        "plt.xlabel('BMI')\n",
        "plt.ylabel('Diabetes Progression')\n",
        "plt.show()\n",
        "\n",
        "'''\n",
        "==========================================================================================================\n",
        "======================================>     POTTING THE RESULTS\n",
        "==========================================================================================================\n",
        "\n",
        "NOTE:\n",
        "    Now we're almost done. We just need to compare X_test, y_test diagram with X_test and y_pre to understand\n",
        "    whether if the model is good enough or no.\n",
        "\n",
        "NOTE:\n",
        "    Based on our data, we choose Scatter plot method.\n",
        "'''"
      ]
    },
    {
      "cell_type": "markdown",
      "metadata": {},
      "source": [
        "### Here is the code without explanation"
      ]
    },
    {
      "cell_type": "code",
      "execution_count": 53,
      "metadata": {
        "colab": {
          "base_uri": "https://localhost:8080/",
          "height": 507
        },
        "id": "GEhYn8SryNZ5",
        "outputId": "b408f149-1665-42b7-c6a7-524cc1630959"
      },
      "outputs": [
        {
          "name": "stdout",
          "output_type": "stream",
          "text": [
            "(89, 1) (89,) (353, 1) (353,)\n",
            "y_pred : (89,)\n"
          ]
        },
        {
          "data": {
            "image/png": "[encoded data removed]",
            "text/plain": [
              "<Figure size 640x480 with 1 Axes>"
            ]
          },
          "metadata": {},
          "output_type": "display_data"
        },
        {
          "name": "stdout",
          "output_type": "stream",
          "text": [
            "Mean Squared Error: 4061.83\n",
            "R-squared: 0.23\n"
          ]
        }
      ],
      "source": [
        "# Import necessary libraries\n",
        "import numpy as np\n",
        "import matplotlib.pyplot as plt\n",
        "from sklearn import datasets\n",
        "from sklearn.model_selection import train_test_split\n",
        "from sklearn.linear_model import LinearRegression\n",
        "from sklearn.metrics import mean_squared_error\n",
        "from sklearn.metrics import r2_score\n",
        "\n",
        "# Load the diabetes dataset\n",
        "diabetes = datasets.load_diabetes()\n",
        "X = diabetes.data[:, np.newaxis, 2] # Use BMI as the feature\n",
        "y = diabetes.target\n",
        "\n",
        "# Split the data into training and testing sets\n",
        "X_train, X_test, y_train, y_test = train_test_split(X, y, test_size=0.2, random_state=42)\n",
        "\n",
        "print(X_test.shape, y_test.shape, X_train.shape, y_train.shape)\n",
        "\n",
        "# Create and fit the linear regression model\n",
        "model = LinearRegression()\n",
        "model.fit(X_train, y_train)\n",
        "\n",
        "# Make predictions on the test set\n",
        "y_pred = model.predict(X_test)\n",
        "print(f'y_pred : {y_pred.shape}')\n",
        "\n",
        "# Evaluate the model performance\n",
        "mse = mean_squared_error(y_test, y_pred)\n",
        "\n",
        "\n",
        "# Plot the results\n",
        "plt.scatter(X_test, y_test, color='black')\n",
        "plt.plot(X_test, y_pred, color='blue', linewidth=3)\n",
        "plt.title('Linear Regression - Diabetes Progression Prediction')\n",
        "plt.xlabel('BMI')\n",
        "plt.ylabel('Diabetes Progression')\n",
        "plt.show()\n",
        "\n",
        "# Display the model's performance\n",
        "print(f'Mean Squared Error: {mse:.2f}')\n",
        "\n",
        "# Calculate and display R-squared and Display it\n",
        "r2 = r2_score(y_test, y_pred)\n",
        "print(f'R-squared: {r2:.2f}')"
      ]
    },
    {
      "cell_type": "code",
      "execution_count": null,
      "metadata": {},
      "outputs": [],
      "source": []
    }
  ],
  "metadata": {
    "colab": {
      "provenance": []
    },
    "kernelspec": {
      "display_name": "Python 3",
      "name": "python3"
    },
    "language_info": {
      "codemirror_mode": {
        "name": "ipython",
        "version": 3
      },
      "file_extension": ".py",
      "mimetype": "text/x-python",
      "name": "python",
      "nbconvert_exporter": "python",
      "pygments_lexer": "ipython3",
      "version": "3.11.4"
    }
  },
  "nbformat": 4,
  "nbformat_minor": 0
}
